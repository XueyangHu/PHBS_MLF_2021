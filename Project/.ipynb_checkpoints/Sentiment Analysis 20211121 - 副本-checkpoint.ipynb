{
 "cells": [
  {
   "cell_type": "markdown",
   "metadata": {},
   "source": [
    "<img align=\"left\" src=\"https://statics.phbs.pku.edu.cn/uploadfile/2018/0119/20180119080526567.png\" style=\"margin-top:50px\">\n",
    "<h1 align=\"right\" style=\"margin-top:60px\">Machine Learning for Finance (FIN 570) </h1>\n",
    "<h1 align=\"right\" style=\"margin-top:20px\">Module 1, 2021-2022 Fall </h1>"
   ]
  },
  {
   "cell_type": "markdown",
   "metadata": {},
   "source": [
    "<h1 align=\"center\" style=\"margin-top:40px\">Sentiment Analysis on Central Bank Statement</h1>"
   ]
  },
  {
   "cell_type": "markdown",
   "metadata": {},
   "source": [
    "<center>\n",
    "<font color=black size=4 face=times> Team: Hu Xueyang & Zhai Sihan<br>\n",
    "    Instructor: Jaehyuk Choi<br>\n",
    "<font color=black size=3 face=times><center>(Last Modified on Nov 21, 2021)\n",
    "<center>"
   ]
  },
  {
   "cell_type": "markdown",
   "metadata": {},
   "source": [
    "## 1. Introduction"
   ]
  },
  {
   "cell_type": "markdown",
   "metadata": {},
   "source": [
    "1. **X:** After we develop crawlers to download documents from FOMC website (Chapter 2), we extract information from the documents with both Doc2Vec (Chapter 3) and Latent Dirichlet Allocation (LDA, Chapter 4). Then we calculate the difference between two consecutive statements (Chapter 5.1) and principal components of the difference (Chapter 5.2), both of which are used for our prediction models.\n",
    "2. **Y:** We download Federal Funds Rate, short-term and long-term treasury bond yields from Bloomberg (Chapter 5.3). Then we construct Y variables in two ways, i.e. discrete variables and continuous variables (Chapter 5.4).\n",
    "3. **Influence of Statements:** We first plot the influence of the publication of statements on Y (Chapter 6.1). \n",
    "    1. Discrete Y: For discrete Y, we use Random Forest (Chapter 6.2 for original vectors and Chapter 6.3 for principal components), Support Vector Machine (SVM, Chapter 6.4 for original vectors and Chapter 6.5 for principal components) and Dense Neural Network (Chapter 6.6) to do prediction. We also adopt Grid Search to look for appropriate hyper-parameters, and test the accuracy of our model with 5-fold method.\n",
    "    2. Continuous Y: For continuous Y, we use Dense Neural Network to do prediction (Chapter 6.7).\n",
    "4. **Explore Minutes:**\n",
    "    1. Cosine similarity: We calculate the cosine similarity between the statements and minutes of the same meeting, and the similarity between 2 consecutive documents of the same category (Chapter 7.1).\n",
    "    2. The influence of the publication of minutes: We test the effect of the publication of minutes on the responses of financial market (Chapter 7.2 & 7.3).\n",
    "5. **Findings:** \n",
    "    1. Discrete Y: Random Forest works the best when predicting all kind of response variables, with the highest accuracy and lowest standard deviation. The accuracy is 40.22% (std: 7.58%) for federal funds rate, 50.03% (std: 5.03%) for 10-year bond, and 51.03% (std: 3.32%) for 3-year bond. Models of principal components cannot beat those of original vectors.\n",
    "    2. Continuous Y: Dense Neural Network model works significantly better for Bond Yields (especially for the 10-year treasury bond yield) than for Federal Funds Rate.\n",
    "    3. Similartiy between documents: The cosine similarity based on Doc2Vec model outputs is low and volatile, while the similarity based on LDA model outputs is higher and smoother. Similarity between two consecutive statements is much higher than that between two minutes or between the statement and minutes of the same meeting.\n",
    "    4. Influence of minutes: The influence of minutes on financial markets is not stastically significant."
   ]
  },
  {
   "cell_type": "markdown",
   "metadata": {},
   "source": [
    "## 2. Collect HTML Files from FOMC Website"
   ]
  },
  {
   "cell_type": "markdown",
   "metadata": {},
   "source": [
    "##### Please see [Web Crawler.ipynb]() under the same repository."
   ]
  },
  {
   "cell_type": "markdown",
   "metadata": {},
   "source": [
    "## 3. Analyze HTML Files with Doc2Vec Model"
   ]
  },
  {
   "cell_type": "markdown",
   "metadata": {},
   "source": [
    "##### We first tried PDF documents before the presentation (see [PDF Processor.ipynb]()). However, due to the limited number of pdf files available, we tried HTML files after the presentation."
   ]
  },
  {
   "cell_type": "markdown",
   "metadata": {},
   "source": [
    "### 3.1 Define functions to preprocess HTML files"
   ]
  },
  {
   "cell_type": "markdown",
   "metadata": {},
   "source": [
    "Define functions to read HTML files."
   ]
  },
  {
   "cell_type": "code",
   "execution_count": 1,
   "metadata": {},
   "outputs": [],
   "source": [
    "from bs4 import BeautifulSoup as bs\n",
    "import unicodedata\n",
    "from gensim.models.doc2vec import Doc2Vec, TaggedDocument\n",
    "import os\n",
    "import numpy as np\n",
    "import pandas as pd\n",
    "import re\n",
    "\n",
    "def html_to_str(file):\n",
    "    with open(file,encoding='ISO-8859-1') as f:\n",
    "        contents = f.read().replace('\\n',' ').replace('\\t',' ')\n",
    "        clean_text = unicodedata.normalize('NFKD',bs(contents, 'lxml').get_text())\n",
    "    return clean_text"
   ]
  },
  {
   "cell_type": "markdown",
   "metadata": {},
   "source": [
    "### 3.2 Construct training samples for Doc2Vec model"
   ]
  },
  {
   "cell_type": "code",
   "execution_count": 2,
   "metadata": {},
   "outputs": [],
   "source": [
    "html_min_path='./html_min/'\n",
    "html_stat_path='./html_stat/'\n",
    "html_min_list=os.listdir(html_min_path)\n",
    "html_stat_list=os.listdir(html_stat_path)\n",
    "html_min_list=[i for i in html_min_list if not i.startswith('.')]\n",
    "html_stat_list=[i for i in html_stat_list if not i.startswith('.')]"
   ]
  },
  {
   "cell_type": "code",
   "execution_count": 3,
   "metadata": {},
   "outputs": [],
   "source": [
    "# construct TaggedDocument data with sentences\n",
    "def str_to_sentences(string, tag=False):\n",
    "    train_content = []\n",
    "    count = 0\n",
    "    if string == '':\n",
    "        print('Cannot process empty string. Please check.')\n",
    "    else:\n",
    "        if tag == True:\n",
    "            for item in string.split('. '):\n",
    "                try:\n",
    "                    train_content.append(TaggedDocument(item, [str(count)]))\n",
    "                    count += 1\n",
    "                except ValueError:\n",
    "                    pass\n",
    "            return train_content\n",
    "        else:\n",
    "            for item in string.split('. '):\n",
    "                try:\n",
    "                    train_content.append(item)\n",
    "                except ValueError:\n",
    "                    pass\n",
    "            return train_content"
   ]
  },
  {
   "cell_type": "code",
   "execution_count": 4,
   "metadata": {},
   "outputs": [],
   "source": [
    "# construct TaggedDocument data with documents\n",
    "def label_doc(docs, labels, tag=True):\n",
    "    train_content = []\n",
    "    if tag == True:\n",
    "        for count, item in enumerate(docs):\n",
    "            try:\n",
    "                train_content.append(TaggedDocument(item, [labels[count]]))\n",
    "            except ValueError:\n",
    "                pass\n",
    "        return train_content\n",
    "    else:\n",
    "        for item in docs:\n",
    "            try:\n",
    "                train_content.append(item)\n",
    "            except ValueError:\n",
    "                pass\n",
    "        return train_content"
   ]
  },
  {
   "cell_type": "code",
   "execution_count": 5,
   "metadata": {},
   "outputs": [],
   "source": [
    "html_raw_contents = []\n",
    "for file in html_min_list:\n",
    "    contents = html_to_str(html_min_path + file)\n",
    "    html_raw_contents.append(contents)\n",
    "\n",
    "for file in html_stat_list:\n",
    "    contents = html_to_str(html_stat_path + file)\n",
    "    html_raw_contents.append(contents)\n",
    "\n",
    "train_data  = label_doc(html_raw_contents, html_min_list + html_stat_list)"
   ]
  },
  {
   "cell_type": "markdown",
   "metadata": {},
   "source": [
    "### 3.3 Build and train a Doc2Vec model"
   ]
  },
  {
   "cell_type": "markdown",
   "metadata": {},
   "source": [
    "Distributed Memory Model of Paragraph Vectors (PV-DM) by Le and Mikolov (2014):"
   ]
  },
  {
   "attachments": {
    "image.png": {
     "image/png": "[encoded data removed]"
    }
   },
   "cell_type": "markdown",
   "metadata": {},
   "source": [
    "![image.png](attachment:image.png)"
   ]
  },
  {
   "cell_type": "code",
   "execution_count": 6,
   "metadata": {},
   "outputs": [],
   "source": [
    "# initialize a Doc2Vec model using distributed memory method\n",
    "model_html = Doc2Vec(dm=1, vector_size=20, window=5, min_count=2, workers=4)"
   ]
  },
  {
   "cell_type": "code",
   "execution_count": null,
   "metadata": {},
   "outputs": [],
   "source": [
    "# train and save the model\n",
    "model_html.build_vocab(train_data)\n",
    "model_html.train(train_data, total_examples=model_html.corpus_count, epochs=50)\n",
    "model_html.save('doc2vec_html.model')"
   ]
  },
  {
   "cell_type": "markdown",
   "metadata": {},
   "source": [
    "### 3.4 Obtain document vectors"
   ]
  },
  {
   "cell_type": "code",
   "execution_count": null,
   "metadata": {},
   "outputs": [],
   "source": [
    "# obtain doc vectors for statements\n",
    "vec_stat = pd.DataFrame(np.zeros([len(html_stat_list), model_html.vector_size]))\n",
    "\n",
    "for i in range(len(html_stat_list)):\n",
    "    file = html_stat_list[i]\n",
    "    if re.findall(r'\\d{8}', file) is not None:\n",
    "        contents = html_to_str(html_stat_path + file)\n",
    "        test_content = str_to_sentences(contents, tag=False)\n",
    "        vec = model_html.infer_vector(test_content)\n",
    "        vec_stat.loc[i, 'file'] = file.split('.', 1)[0]\n",
    "        vec_stat.iloc[i, : model_html.vector_size] = vec\n",
    "        vec_stat.loc[i, 'date'] = re.findall(r'\\d{8}', file)\n",
    "    else:\n",
    "        pass\n",
    "vec_stat.set_index('date', inplace=True)\n",
    "vec_stat.to_excel('vec_stat_html.xlsx')\n",
    "vec_stat=vec_stat.sort_index()\n",
    "vec_stat.index=pd.to_datetime(vec_stat.index)\n",
    "vec_stat"
   ]
  },
  {
   "cell_type": "code",
   "execution_count": null,
   "metadata": {
    "scrolled": true
   },
   "outputs": [],
   "source": [
    "# obtain doc vectors for minutes\n",
    "vec_min = pd.DataFrame(np.zeros([len(html_min_list), model_html.vector_size]))\n",
    "for i in range(len(html_min_list)):\n",
    "    file = html_min_list[i]\n",
    "    if re.findall(r'\\d{8}', file) is not None:\n",
    "        contents = html_to_str(html_min_path + file)\n",
    "        test_content = str_to_sentences(contents, tag=False)\n",
    "        vec = model_html.infer_vector(test_content)\n",
    "        vec_min.loc[i, 'file'] = file.split('.', 1)[0]\n",
    "        vec_min.iloc[i, : model_html.vector_size] = vec\n",
    "        vec_min.loc[i, 'date'] = re.findall(r'\\d{8}', file)\n",
    "    else:\n",
    "        pass\n",
    "vec_min.set_index('date', inplace=True)\n",
    "vec_min.to_excel('vec_min_html.xlsx')\n",
    "vec_min=vec_min.sort_index()\n",
    "vec_min.index=pd.to_datetime(vec_min.index)\n",
    "vec_min"
   ]
  },
  {
   "cell_type": "markdown",
   "metadata": {},
   "source": [
    "## 4. Analyze HTML Files with Latent Dirichlet Allocation (LDA) Model"
   ]
  },
  {
   "cell_type": "markdown",
   "metadata": {},
   "source": [
    "### 4.1 Preprocess HTML files"
   ]
  },
  {
   "cell_type": "code",
   "execution_count": null,
   "metadata": {},
   "outputs": [],
   "source": [
    "example=html_to_str('./html_stat/20010418.htm')\n",
    "example"
   ]
  },
  {
   "cell_type": "code",
   "execution_count": null,
   "metadata": {},
   "outputs": [],
   "source": [
    "# Remove punctuations\n",
    "import string\n",
    "example = example.translate(str.maketrans('', '', string.punctuation))\n",
    "example = re.sub('\\d','',example).lower()"
   ]
  },
  {
   "cell_type": "code",
   "execution_count": null,
   "metadata": {},
   "outputs": [],
   "source": [
    "# Remove stop words\n",
    "from gensim.parsing.preprocessing import remove_stopwords\n",
    "example = remove_stopwords(example)\n",
    "example"
   ]
  },
  {
   "cell_type": "code",
   "execution_count": null,
   "metadata": {},
   "outputs": [],
   "source": [
    "# Lemmatize\n",
    "from nltk import pos_tag\n",
    "from nltk.stem import WordNetLemmatizer\n",
    "from nltk.corpus import wordnet\n",
    " \n",
    "wnl = WordNetLemmatizer()\n",
    "\n",
    "def get_wordnet_pos(tag):\n",
    "    if tag.startswith('J'):\n",
    "        return wordnet.ADJ\n",
    "    elif tag.startswith('V'):\n",
    "        return wordnet.VERB\n",
    "    elif tag.startswith('N'):\n",
    "        return wordnet.NOUN\n",
    "    elif tag.startswith('R'):\n",
    "        return wordnet.ADV\n",
    "    else:\n",
    "        return None\n",
    "\n",
    "example_list=[wnl.lemmatize(i,get_wordnet_pos(pos_tag([i])[0][1])) for i in example.split()]"
   ]
  },
  {
   "cell_type": "code",
   "execution_count": null,
   "metadata": {},
   "outputs": [],
   "source": [
    "# Stemming\n",
    "from nltk.stem import SnowballStemmer\n",
    "\n",
    "snowball_stemmer = SnowballStemmer('english')\n",
    "example_list = [snowball_stemmer.stem(i) for i in example_list]\n",
    "example_list"
   ]
  },
  {
   "cell_type": "code",
   "execution_count": null,
   "metadata": {},
   "outputs": [],
   "source": [
    "from collections import Counter\n",
    "import operator\n",
    "import functools\n",
    "\n",
    "def word_count(text, num):\n",
    "    words = [word for word in text]\n",
    "    counter = Counter()\n",
    "    counter.update(words)\n",
    "    words_common = counter.most_common(num)\n",
    "    return words_common, words"
   ]
  },
  {
   "cell_type": "code",
   "execution_count": null,
   "metadata": {},
   "outputs": [],
   "source": [
    "def preprocessing(text):\n",
    "    text=text.translate(str.maketrans('', '', string.punctuation))\n",
    "    text=re.sub('\\d','',text).lower()\n",
    "    text=re.sub('january|february|march|april|may|june|july|august|september|october|november|december','',text)\n",
    "    text=remove_stopwords(text)\n",
    "    wnl = WordNetLemmatizer()\n",
    "    text_list=[]\n",
    "    for i in text.split():\n",
    "        pos=get_wordnet_pos(pos_tag([i])[0][1])\n",
    "        if pos is not None:\n",
    "            text_list.append(wnl.lemmatize(i,pos))\n",
    "        else:\n",
    "            text_list.append(wnl.lemmatize(i))\n",
    "    \n",
    "    #snowball_stemmer = SnowballStemmer('english')\n",
    "    #return [snowball_stemmer.stem(i) for i in text_list]\n",
    "    return text_list"
   ]
  },
  {
   "cell_type": "markdown",
   "metadata": {},
   "source": [
    "### 4.2 Construct training samples for LDA model"
   ]
  },
  {
   "cell_type": "markdown",
   "metadata": {},
   "source": [
    "We first import HTML files and run preprocessing."
   ]
  },
  {
   "cell_type": "code",
   "execution_count": null,
   "metadata": {},
   "outputs": [],
   "source": [
    "html_stat_contents=[]\n",
    "for file in html_stat_list:\n",
    "    contents = html_to_str(html_stat_path + file)\n",
    "    contents = preprocessing(contents)\n",
    "    html_stat_contents.append(contents)\n",
    "\n",
    "html_min_contents=[]\n",
    "for file in html_min_list:\n",
    "    contents = html_to_str(html_min_path + file)\n",
    "    contents = preprocessing(contents)\n",
    "    html_min_contents.append(contents)"
   ]
  },
  {
   "cell_type": "markdown",
   "metadata": {},
   "source": [
    "Then, we filter out frequent words without clear meanings. We want to remove those words from the text."
   ]
  },
  {
   "cell_type": "code",
   "execution_count": null,
   "metadata": {},
   "outputs": [],
   "source": [
    "import operator\n",
    "import functools\n",
    "\n",
    "word_collection=functools.reduce(operator.concat, html_stat_contents + html_min_contents)"
   ]
  },
  {
   "cell_type": "code",
   "execution_count": null,
   "metadata": {},
   "outputs": [],
   "source": [
    "word_count(word_collection, 40)[0]"
   ]
  },
  {
   "cell_type": "markdown",
   "metadata": {},
   "source": [
    "We then use `gensim` to build a dictionary."
   ]
  },
  {
   "cell_type": "code",
   "execution_count": null,
   "metadata": {},
   "outputs": [],
   "source": [
    "from gensim import corpora, models, similarities\n",
    "dictionary=corpora.Dictionary(html_stat_contents+html_min_contents)\n",
    "dict_len=len(dictionary)\n",
    "\n",
    "corpus = [dictionary.doc2bow(text) for text in html_stat_contents+html_min_contents]\n",
    "corpus_tfidf = models.TfidfModel(corpus)[corpus]"
   ]
  },
  {
   "cell_type": "markdown",
   "metadata": {},
   "source": [
    "### 4.3 Build and train a LDA model\n",
    "We run the LDA model here and generate the keywords of each cluster and the distance between each documents and each cluster."
   ]
  },
  {
   "cell_type": "code",
   "execution_count": null,
   "metadata": {},
   "outputs": [],
   "source": [
    "num_topics=7\n",
    "lda = models.LdaModel(corpus_tfidf, num_topics=num_topics, id2word=dictionary,\n",
    "      alpha=0.01, eta=0.01, minimum_probability=0.001, update_every = 1, chunksize = 100, passes = 1)"
   ]
  },
  {
   "cell_type": "code",
   "execution_count": null,
   "metadata": {
    "scrolled": true
   },
   "outputs": [],
   "source": [
    "# Membership grade\n",
    "print('This the membership grade for top 10 documents:')\n",
    "doc_topics = lda.get_document_topics(corpus_tfidf,minimum_probability=0)\n",
    "for i in range(10):\n",
    "    topic_idx = np.array(doc_topics[i])[:,1]\n",
    "    print('%dth document:'%i)\n",
    "    print(topic_idx)"
   ]
  },
  {
   "cell_type": "code",
   "execution_count": null,
   "metadata": {
    "scrolled": false
   },
   "outputs": [],
   "source": [
    "# Keyword for each topic\n",
    "for topic_id in range(num_topics):\n",
    "    print('Keywords for Topic %d:' % topic_id)\n",
    "    term_distribute_all = lda.get_topic_terms(topicid=topic_id)\n",
    "    term_distribute = term_distribute_all[:7]\n",
    "    term_distribute = np.array(term_distribute)\n",
    "    term_id = term_distribute[:, 0].astype(int)\n",
    "    print('Word: \\t', end='  ')\n",
    "    for t in term_id:\n",
    "        print(dictionary.id2token[t], end=' ')\n",
    "    print('\\nProbability：\\t', term_distribute[:, 1])"
   ]
  },
  {
   "cell_type": "markdown",
   "metadata": {},
   "source": [
    "### 4.4 Obtain inputs of the prediction model"
   ]
  },
  {
   "cell_type": "code",
   "execution_count": null,
   "metadata": {
    "scrolled": true
   },
   "outputs": [],
   "source": [
    "training_data=pd.DataFrame([[j[1] for j in i] for i in lda.get_document_topics(corpus_tfidf,minimum_probability=0)],\n",
    "                          index=['st'+re.search(r'\\d{8}', i)[0] for i in html_stat_list]+[\n",
    "                              'mi'+re.search(r'\\d{8}', i)[0] for i in html_min_list])"
   ]
  },
  {
   "cell_type": "code",
   "execution_count": null,
   "metadata": {},
   "outputs": [],
   "source": [
    "training_data.index.name='date'\n",
    "training_data=training_data.reset_index()\n",
    "training_data['type']=training_data.date.str[:2]\n",
    "training_data.date=pd.to_datetime(training_data.date.str[2:])"
   ]
  },
  {
   "cell_type": "code",
   "execution_count": null,
   "metadata": {},
   "outputs": [],
   "source": [
    "training_data"
   ]
  },
  {
   "cell_type": "markdown",
   "metadata": {},
   "source": [
    "## 5. Prepare Data for the Prediction Model\n",
    "### 5.1 Merge and differntiate X variables\n",
    "#### Statements"
   ]
  },
  {
   "cell_type": "code",
   "execution_count": null,
   "metadata": {},
   "outputs": [],
   "source": [
    "def diff(df):\n",
    "    return df-df.shift()"
   ]
  },
  {
   "cell_type": "code",
   "execution_count": null,
   "metadata": {},
   "outputs": [],
   "source": [
    "lda_stat=training_data[training_data.type=='st'].drop('type',axis=1).sort_values('date').set_index('date')\n",
    "lda_stat.columns=['lda_'+str(i) for i in lda_stat.columns]\n",
    "lda_stat"
   ]
  },
  {
   "cell_type": "code",
   "execution_count": null,
   "metadata": {
    "scrolled": false
   },
   "outputs": [],
   "source": [
    "vec_stat.columns=['vec_'+str(i) for i in vec_stat.columns]\n",
    "vec_stat"
   ]
  },
  {
   "cell_type": "code",
   "execution_count": null,
   "metadata": {},
   "outputs": [],
   "source": [
    "stat_total=diff(lda_stat).merge(diff(vec_stat.drop('vec_file',axis=1)),\n",
    "                                left_index=True,right_index=True).dropna()"
   ]
  },
  {
   "cell_type": "code",
   "execution_count": null,
   "metadata": {
    "scrolled": true
   },
   "outputs": [],
   "source": [
    "stat_total"
   ]
  },
  {
   "cell_type": "code",
   "execution_count": null,
   "metadata": {},
   "outputs": [],
   "source": [
    "stat_original=lda_stat.merge(vec_stat.drop('vec_file',axis=1),\n",
    "                            left_index=True,right_index=True).dropna()\n",
    "stat_original.to_excel('stat_original.xlsx')"
   ]
  },
  {
   "cell_type": "markdown",
   "metadata": {},
   "source": [
    "#### Minutes"
   ]
  },
  {
   "cell_type": "code",
   "execution_count": null,
   "metadata": {
    "scrolled": true
   },
   "outputs": [],
   "source": [
    "lda_min=training_data[training_data.type=='mi'].drop('type',axis=1).sort_values('date').set_index('date')\n",
    "lda_min.columns=['lda_'+str(i) for i in lda_min.columns]\n",
    "lda_min"
   ]
  },
  {
   "cell_type": "code",
   "execution_count": null,
   "metadata": {
    "scrolled": false
   },
   "outputs": [],
   "source": [
    "vec_min.columns=['vec_'+str(i) for i in vec_min.columns]\n",
    "vec_min"
   ]
  },
  {
   "cell_type": "code",
   "execution_count": null,
   "metadata": {},
   "outputs": [],
   "source": [
    "min_total=diff(lda_min).merge(diff(vec_min.drop('vec_file',axis=1)),\n",
    "                                left_index=True,right_index=True).dropna()"
   ]
  },
  {
   "cell_type": "code",
   "execution_count": null,
   "metadata": {},
   "outputs": [],
   "source": [
    "min_total"
   ]
  },
  {
   "cell_type": "code",
   "execution_count": null,
   "metadata": {},
   "outputs": [],
   "source": [
    "min_original=lda_min.merge(vec_min.drop('vec_file',axis=1),\n",
    "                            left_index=True,right_index=True).dropna()\n",
    "min_original.to_excel('min_original.xlsx')"
   ]
  },
  {
   "cell_type": "markdown",
   "metadata": {},
   "source": [
    "### 5.2 Extract principal componets of X"
   ]
  },
  {
   "cell_type": "code",
   "execution_count": null,
   "metadata": {},
   "outputs": [],
   "source": [
    "from sklearn.decomposition import PCA\n",
    "from sklearn.preprocessing import StandardScaler\n",
    "\n",
    "stdc=StandardScaler()\n",
    "pca=PCA(n_components=3)\n",
    "\n",
    "stat_total[stat_total.columns]=stdc.fit_transform(stat_total)\n",
    "stat_total"
   ]
  },
  {
   "cell_type": "code",
   "execution_count": null,
   "metadata": {},
   "outputs": [],
   "source": [
    "stat_pca_total=pd.DataFrame(pca.fit_transform(stat_total),index=stat_total.index)\n",
    "stat_pca_total"
   ]
  },
  {
   "cell_type": "markdown",
   "metadata": {},
   "source": [
    "### 5.3 Collect Y variables\n",
    "We consider three possible variables that may be affected by the FOMC's statements or minutes. All the data used here were downloaded from Bloomberg.\n",
    "1. Federal funds rate: Many decisions made by FOMC directly influence the interest rate, so it is reasonable to hypothesize FOMC's statements or minutes can explain or predict the change of federal funds rate.\n",
    "2. 10-Year US Treasury Bonds: We use 10-year US treasury bonds to represent mid- and long-trem bonds.\n",
    "3. 3-Year US Treasury Bonds: We use 3-year US treasury bonds to represent short-term bonds."
   ]
  },
  {
   "cell_type": "code",
   "execution_count": null,
   "metadata": {},
   "outputs": [],
   "source": [
    "import numpy as np\n",
    "import pandas as pd\n",
    "import matplotlib.pyplot as plt\n",
    "import seaborn as sns\n",
    "\n",
    "\n",
    "ffr=pd.read_excel('y/federal funds.xlsx',index_col=0)\n",
    "us3year=pd.read_excel('y/us3year.xlsx',index_col=0)\n",
    "us10year=pd.read_excel('y/us10year.xlsx',index_col=0)"
   ]
  },
  {
   "cell_type": "markdown",
   "metadata": {},
   "source": [
    "### 5.4 Propress Y\n",
    "In this subsection, we aim to propress Y for our prediction models. Suppose the document is publicated on date $T$. We define $Y$ as the equation below.\n",
    "$$ Y=F\\left(\\left(\\frac{1}{W}\\sum_{i=1}^W V_{T+i}-\\frac{1}{W}\\sum_{i=1}^W V_{T-i}\\right)/\\left(\\frac{1}{W}\\sum_{i=1}^W V_{T-i}\\right)\\right)$$"
   ]
  },
  {
   "cell_type": "markdown",
   "metadata": {},
   "source": [
    "$V$ can be federal funds rate, 10-year US treasury bond or 3-year US treasury bond. $F(\\cdot)$ depends on the way we process data. We have two ways to process $Y$, i.e. continuous and discrete.\n",
    "1. For continuous case, $F(x)=x$\n",
    "2. For discrte case, $F(X)$ is defined as below.\n",
    "$$\n",
    "F(X)=\\begin{cases}\n",
    "1, & X>0.001\\\\\n",
    "-1, & X<-0.001\\\\\n",
    "0,& Otherwise\n",
    "\\end{cases}\n",
    "$$"
   ]
  },
  {
   "cell_type": "markdown",
   "metadata": {},
   "source": [
    " With this model, on the day when a new statement is publicated, we can use the vector of the statement to predict whether $V$ will rise or fall in the future, which can help us make decision on whether to long or to short."
   ]
  },
  {
   "cell_type": "code",
   "execution_count": null,
   "metadata": {},
   "outputs": [],
   "source": [
    "#W=2\n",
    "def calc_y(df):\n",
    "    return ((df.shift(1)+df.shift(2))/2-(df.shift(-1)+df.shift(-2))/2)/(df.shift(-1)+df.shift(-2))/2\n",
    "\n",
    "def classifier(num):\n",
    "    if num>0.001:\n",
    "        return 1\n",
    "    elif num<-0.001:\n",
    "        return -1\n",
    "    else:\n",
    "        return 0\n",
    "\n",
    "y_ffr=calc_y(ffr.PX_LAST)\n",
    "y_ffr.name='ffr'\n",
    "y_us3year=calc_y(us3year.PX_LAST)\n",
    "y_us3year.name='us3year'\n",
    "y_us10year=calc_y(us10year.PX_LAST)\n",
    "y_us10year.name='us10year'\n",
    "y_cont=pd.DataFrame(y_ffr).join(y_us3year).join(y_us10year).dropna()\n",
    "y_disc=y_cont.applymap(classifier)"
   ]
  },
  {
   "cell_type": "code",
   "execution_count": null,
   "metadata": {
    "scrolled": false
   },
   "outputs": [],
   "source": [
    "y_cont"
   ]
  },
  {
   "cell_type": "code",
   "execution_count": null,
   "metadata": {},
   "outputs": [],
   "source": [
    "y_disc"
   ]
  },
  {
   "cell_type": "markdown",
   "metadata": {},
   "source": [
    "## 6. Influence of Statements\n",
    "### 6.1 Plot\n",
    "We use red line to mark the time when statements were publicated. We only plot data after 2016."
   ]
  },
  {
   "cell_type": "markdown",
   "metadata": {},
   "source": [
    "#### Federal funds rate\n",
    "For federal funds rate, we can find the significant influence of the publication of statements. "
   ]
  },
  {
   "cell_type": "code",
   "execution_count": null,
   "metadata": {
    "scrolled": false
   },
   "outputs": [],
   "source": [
    "stat_total"
   ]
  },
  {
   "cell_type": "code",
   "execution_count": null,
   "metadata": {},
   "outputs": [],
   "source": [
    "fig,ax=plt.subplots(figsize=(10,6))\n",
    "sns.lineplot(data=ffr.reset_index()[lambda x:x.Date>'2016-01-01'],x='Date',y='PX_LAST',ax=ax)\n",
    "for i in stat_total.loc['2016-01-01':].index:\n",
    "    ax.axvline(i,color='red',linewidth=0.6,linestyle=':')"
   ]
  },
  {
   "cell_type": "markdown",
   "metadata": {},
   "source": [
    "#### 10-year US treasuray bonds"
   ]
  },
  {
   "cell_type": "code",
   "execution_count": null,
   "metadata": {
    "scrolled": false
   },
   "outputs": [],
   "source": [
    "fig,ax=plt.subplots(figsize=(10,6))\n",
    "sns.lineplot(data=us10year.reset_index()[lambda x:x.Date>'2016-01-01'],x='Date',y='PX_LAST',ax=ax)\n",
    "for i in stat_total.loc['2016-01-01':].index:\n",
    "    ax.axvline(i,color='red',linewidth=0.6,linestyle=':')"
   ]
  },
  {
   "cell_type": "markdown",
   "metadata": {},
   "source": [
    "#### 3-year US treasuray bonds"
   ]
  },
  {
   "cell_type": "code",
   "execution_count": null,
   "metadata": {},
   "outputs": [],
   "source": [
    "fig,ax=plt.subplots(figsize=(10,6))\n",
    "sns.lineplot(data=us3year.reset_index()[lambda x:x.Date>'2016-01-01'],x='Date',y='PX_LAST',ax=ax)\n",
    "for i in stat_total.loc['2016-01-01':].index:\n",
    "    ax.axvline(i,color='red',linewidth=0.6,linestyle=':')"
   ]
  },
  {
   "cell_type": "markdown",
   "metadata": {},
   "source": [
    "### 6.2 Random forest (RF) for original X and discrete Y\n",
    "We first merge data and split data. When spliting data, it is not proper to use random split, as we cannot use data in the future to predict price in the past."
   ]
  },
  {
   "cell_type": "code",
   "execution_count": null,
   "metadata": {},
   "outputs": [],
   "source": [
    "stat_disc=stat_total.merge(y_disc, left_index=True, right_index=True, how='left').dropna()"
   ]
  },
  {
   "cell_type": "code",
   "execution_count": null,
   "metadata": {},
   "outputs": [],
   "source": [
    "def train_test_split_time(df,X,y,test_size):\n",
    "    df1=df.sort_index()\n",
    "    cutoff=df1.index[int((1-test_size)*len(df1.index))]\n",
    "    one_day=pd.Timedelta(days=1)\n",
    "    return df1.loc[:cutoff][X],df1.loc[cutoff+one_day:][X],df1.loc[:cutoff][y],df1.loc[cutoff+one_day:][y]"
   ]
  },
  {
   "cell_type": "markdown",
   "metadata": {},
   "source": [
    "#### Federal funds rate"
   ]
  },
  {
   "cell_type": "code",
   "execution_count": null,
   "metadata": {},
   "outputs": [],
   "source": [
    "X_train, X_test, y_train, y_test =\\\n",
    "    train_test_split_time(stat_disc, X=['lda_'+str(i) for i in range(7)]+['vec_'+str(i) for i in range(20)], \n",
    "                     y='ffr', test_size=0.3)"
   ]
  },
  {
   "cell_type": "code",
   "execution_count": null,
   "metadata": {
    "scrolled": true
   },
   "outputs": [],
   "source": [
    "from sklearn.ensemble import RandomForestClassifier\n",
    "\n",
    "rf=RandomForestClassifier(max_depth=2,n_estimators=16,max_features='sqrt',class_weight='balanced')\n",
    "rf.fit(X_train,y_train)\n",
    "print('Training accuracy:', rf.score(X_train, y_train))\n",
    "print('Test accuracy:', rf.score(X_test, y_test))"
   ]
  },
  {
   "cell_type": "code",
   "execution_count": null,
   "metadata": {
    "scrolled": true
   },
   "outputs": [],
   "source": [
    "from sklearn.model_selection import GridSearchCV\n",
    "X_combined = np.vstack((X_train, X_test))\n",
    "y_combined = np.hstack((y_train, y_test))\n",
    "param_range=np.arange(1,20)\n",
    "param_grid={'max_depth':param_range,'n_estimators':param_range}\n",
    "gs=GridSearchCV(estimator=rf,\n",
    "               param_grid=param_grid,\n",
    "               scoring='accuracy',\n",
    "               cv=4)\n",
    "gs.fit(X_combined,y_combined)\n",
    "print(gs.best_params_)"
   ]
  },
  {
   "cell_type": "markdown",
   "metadata": {},
   "source": [
    "And then we use 5-fold to calculate the accuracy."
   ]
  },
  {
   "cell_type": "code",
   "execution_count": null,
   "metadata": {
    "scrolled": false
   },
   "outputs": [],
   "source": [
    "from sklearn.model_selection import cross_val_score\n",
    "rf_best=gs.best_estimator_\n",
    "scores=cross_val_score(estimator=rf_best,\n",
    "                      X=X_combined,\n",
    "                      y=y_combined,\n",
    "                      cv=5)\n",
    "print('CV accuracy scores of RF: %s'%scores)"
   ]
  },
  {
   "cell_type": "code",
   "execution_count": null,
   "metadata": {
    "scrolled": true
   },
   "outputs": [],
   "source": [
    "(y_combined==0).sum()/len(y_combined)"
   ]
  },
  {
   "cell_type": "markdown",
   "metadata": {},
   "source": [
    "It can beat the two naive models: \n",
    "1. Randomly choose one.\n",
    "2. Always predict that the price will not change."
   ]
  },
  {
   "cell_type": "code",
   "execution_count": null,
   "metadata": {},
   "outputs": [],
   "source": [
    "rf_best.fit(X_train,y_train)\n",
    "fi=rf_best.feature_importances_\n",
    "fig,ax=plt.subplots()\n",
    "pd.Series(fi,index=['lda_'+str(i) for i in range(7)]+['vec_'+str(i) for i in range(20)]).plot.bar(ax=ax)\n",
    "ax.set_title('Feature Importance')"
   ]
  },
  {
   "cell_type": "code",
   "execution_count": null,
   "metadata": {},
   "outputs": [],
   "source": [
    "def random_forest_grid(X_train, X_test, y_train, y_test):\n",
    "    X_combined = np.vstack((X_train, X_test))\n",
    "    y_combined = np.hstack((y_train, y_test))\n",
    "    param_range=np.arange(1,20)\n",
    "    param_grid={'max_depth':param_range,'n_estimators':param_range}\n",
    "    gs=GridSearchCV(estimator=rf,\n",
    "               param_grid=param_grid,\n",
    "               scoring='accuracy',\n",
    "               cv=4)\n",
    "    gs.fit(X_combined,y_combined)\n",
    "    return gs\n",
    "\n",
    "def random_forest_test(X_train, X_test, y_train, y_test, estimator):\n",
    "    X_combined = np.vstack((X_train, X_test))\n",
    "    y_combined = np.hstack((y_train, y_test))\n",
    "    return cross_val_score(estimator=estimator,\n",
    "                      X=X_combined,\n",
    "                      y=y_combined,\n",
    "                      cv=5)"
   ]
  },
  {
   "cell_type": "markdown",
   "metadata": {},
   "source": [
    "#### 10-year treasury bond"
   ]
  },
  {
   "cell_type": "code",
   "execution_count": null,
   "metadata": {},
   "outputs": [],
   "source": [
    "X_train, X_test, y_train, y_test =\\\n",
    "    train_test_split_time(stat_disc, X=['lda_'+str(i) for i in range(7)]+['vec_'+str(i) for i in range(20)], \n",
    "                     y='us10year', test_size=0.3)"
   ]
  },
  {
   "cell_type": "code",
   "execution_count": null,
   "metadata": {},
   "outputs": [],
   "source": [
    "gs=random_forest_grid(X_train, X_test, y_train, y_test)\n",
    "print(gs.best_params_)"
   ]
  },
  {
   "cell_type": "code",
   "execution_count": null,
   "metadata": {},
   "outputs": [],
   "source": [
    "rf_best=gs.best_estimator_\n",
    "scores=random_forest_test(X_train, X_test, y_train, y_test,rf_best)\n",
    "print('CV accuracy scores of RF: %s'%scores)"
   ]
  },
  {
   "cell_type": "code",
   "execution_count": null,
   "metadata": {},
   "outputs": [],
   "source": [
    "y_combined=np.hstack((y_train, y_test))\n",
    "(y_combined==0).sum()/len(y_combined)"
   ]
  },
  {
   "cell_type": "markdown",
   "metadata": {},
   "source": [
    "It can beat the two naive models: \n",
    "1. Randomly choose one.\n",
    "2. Always predict that the price will not change."
   ]
  },
  {
   "cell_type": "code",
   "execution_count": null,
   "metadata": {
    "scrolled": true
   },
   "outputs": [],
   "source": [
    "rf_best.fit(X_train,y_train)\n",
    "fi=rf_best.feature_importances_\n",
    "fig,ax=plt.subplots()\n",
    "pd.Series(fi,index=['lda_'+str(i) for i in range(7)]+['vec_'+str(i) for i in range(20)]).plot.bar(ax=ax)\n",
    "ax.set_title('Feature Importance')"
   ]
  },
  {
   "cell_type": "markdown",
   "metadata": {},
   "source": [
    "#### 3-year treasury bond"
   ]
  },
  {
   "cell_type": "code",
   "execution_count": null,
   "metadata": {},
   "outputs": [],
   "source": [
    "X_train, X_test, y_train, y_test =\\\n",
    "    train_test_split_time(stat_disc, X=['lda_'+str(i) for i in range(7)]+['vec_'+str(i) for i in range(20)], \n",
    "                     y='us3year', test_size=0.3)"
   ]
  },
  {
   "cell_type": "code",
   "execution_count": null,
   "metadata": {},
   "outputs": [],
   "source": [
    "gs=random_forest_grid(X_train, X_test, y_train, y_test)\n",
    "print(gs.best_params_)"
   ]
  },
  {
   "cell_type": "code",
   "execution_count": null,
   "metadata": {},
   "outputs": [],
   "source": [
    "rf_best=gs.best_estimator_\n",
    "scores=random_forest_test(X_train, X_test, y_train, y_test,rf_best)\n",
    "print('CV accuracy scores of RF: %s'%scores)"
   ]
  },
  {
   "cell_type": "code",
   "execution_count": null,
   "metadata": {},
   "outputs": [],
   "source": [
    "y_combined=np.hstack((y_train, y_test))\n",
    "(y_combined==0).sum()/len(y_combined)"
   ]
  },
  {
   "cell_type": "markdown",
   "metadata": {},
   "source": [
    "It can also beat the two naive models: \n",
    "1. Randomly choose one.\n",
    "2. Always predict that the price will not change."
   ]
  },
  {
   "cell_type": "code",
   "execution_count": null,
   "metadata": {},
   "outputs": [],
   "source": [
    "rf_best.fit(X_train,y_train)\n",
    "fi=rf_best.feature_importances_\n",
    "fig,ax=plt.subplots()\n",
    "pd.Series(fi,index=['lda_'+str(i) for i in range(7)]+['vec_'+str(i) for i in range(20)]).plot.bar(ax=ax)\n",
    "ax.set_title('Feature Importance')"
   ]
  },
  {
   "cell_type": "markdown",
   "metadata": {},
   "source": [
    "###  6.3 RF for principal components of X and discrete Y\n",
    "We first use the similar methods to merge and split data."
   ]
  },
  {
   "cell_type": "code",
   "execution_count": null,
   "metadata": {},
   "outputs": [],
   "source": [
    "stat_disc_pca=stat_pca_total.merge(y_disc, left_index=True, right_index=True, how='left').dropna()"
   ]
  },
  {
   "cell_type": "markdown",
   "metadata": {},
   "source": [
    "#### Federal funds rate"
   ]
  },
  {
   "cell_type": "code",
   "execution_count": null,
   "metadata": {},
   "outputs": [],
   "source": [
    "X_train, X_test, y_train, y_test =\\\n",
    "    train_test_split_time(stat_disc_pca, X=list(range(3)), y='ffr', test_size=0.3)"
   ]
  },
  {
   "cell_type": "code",
   "execution_count": null,
   "metadata": {},
   "outputs": [],
   "source": [
    "gs=random_forest_grid(X_train, X_test, y_train, y_test)\n",
    "print(gs.best_params_)"
   ]
  },
  {
   "cell_type": "code",
   "execution_count": null,
   "metadata": {},
   "outputs": [],
   "source": [
    "rf_best=gs.best_estimator_\n",
    "scores=random_forest_test(X_train, X_test, y_train, y_test,rf_best)\n",
    "print('CV accuracy scores of RF: %s'%scores)"
   ]
  },
  {
   "cell_type": "code",
   "execution_count": null,
   "metadata": {},
   "outputs": [],
   "source": [
    "y_combined=np.hstack((y_train, y_test))\n",
    "(y_combined==0).sum()/len(y_combined)"
   ]
  },
  {
   "cell_type": "markdown",
   "metadata": {},
   "source": [
    "The accuracy is lower than that of the original data."
   ]
  },
  {
   "cell_type": "code",
   "execution_count": null,
   "metadata": {},
   "outputs": [],
   "source": [
    "rf_best.fit(X_train,y_train)\n",
    "fi=rf_best.feature_importances_\n",
    "fig,ax=plt.subplots()\n",
    "pd.Series(fi,index=range(3)).plot.bar(ax=ax)\n",
    "ax.set_title('Feature Importance')"
   ]
  },
  {
   "cell_type": "markdown",
   "metadata": {},
   "source": [
    "#### 10-year treasury bond"
   ]
  },
  {
   "cell_type": "code",
   "execution_count": null,
   "metadata": {},
   "outputs": [],
   "source": [
    "X_train, X_test, y_train, y_test =\\\n",
    "    train_test_split_time(stat_disc_pca, X=list(range(3)), y='us10year', test_size=0.3)"
   ]
  },
  {
   "cell_type": "code",
   "execution_count": null,
   "metadata": {},
   "outputs": [],
   "source": [
    "gs=random_forest_grid(X_train, X_test, y_train, y_test)\n",
    "print(gs.best_params_)"
   ]
  },
  {
   "cell_type": "code",
   "execution_count": null,
   "metadata": {},
   "outputs": [],
   "source": [
    "rf_best=gs.best_estimator_\n",
    "scores=random_forest_test(X_train, X_test, y_train, y_test,rf_best)\n",
    "print('CV accuracy scores of RF: %s'%scores)"
   ]
  },
  {
   "cell_type": "code",
   "execution_count": null,
   "metadata": {},
   "outputs": [],
   "source": [
    "y_combined=np.hstack((y_train, y_test))\n",
    "(y_combined==0).sum()/len(y_combined)"
   ]
  },
  {
   "cell_type": "code",
   "execution_count": null,
   "metadata": {
    "scrolled": true
   },
   "outputs": [],
   "source": [
    "rf_best.fit(X_train,y_train)\n",
    "fi=rf_best.feature_importances_\n",
    "fig,ax=plt.subplots()\n",
    "pd.Series(fi,index=range(3)).plot.bar(ax=ax)\n",
    "ax.set_title('Feature Importance')"
   ]
  },
  {
   "cell_type": "markdown",
   "metadata": {},
   "source": [
    "#### 3-year treasury bond"
   ]
  },
  {
   "cell_type": "code",
   "execution_count": null,
   "metadata": {},
   "outputs": [],
   "source": [
    "X_train, X_test, y_train, y_test =\\\n",
    "    train_test_split_time(stat_disc_pca, X=list(range(3)), y='us3year', test_size=0.3)"
   ]
  },
  {
   "cell_type": "code",
   "execution_count": null,
   "metadata": {},
   "outputs": [],
   "source": [
    "gs=random_forest_grid(X_train, X_test, y_train, y_test)\n",
    "print(gs.best_params_)"
   ]
  },
  {
   "cell_type": "code",
   "execution_count": null,
   "metadata": {},
   "outputs": [],
   "source": [
    "rf_best=gs.best_estimator_\n",
    "scores=random_forest_test(X_train, X_test, y_train, y_test,rf_best)\n",
    "print('CV accuracy scores of RF: %s'%scores)"
   ]
  },
  {
   "cell_type": "code",
   "execution_count": null,
   "metadata": {},
   "outputs": [],
   "source": [
    "y_combined=np.hstack((y_train, y_test))\n",
    "(y_combined==0).sum()/len(y_combined)"
   ]
  },
  {
   "cell_type": "code",
   "execution_count": null,
   "metadata": {},
   "outputs": [],
   "source": [
    "rf_best.fit(X_train,y_train)\n",
    "fi=rf_best.feature_importances_\n",
    "fig,ax=plt.subplots()\n",
    "pd.Series(fi,index=range(3)).plot.bar(ax=ax)\n",
    "ax.set_title('Feature Importance')"
   ]
  },
  {
   "cell_type": "markdown",
   "metadata": {},
   "source": [
    "### 6.4 Support vector machine (SVM) for original X and discrete Y\n",
    "#### Federal fund rate"
   ]
  },
  {
   "cell_type": "code",
   "execution_count": null,
   "metadata": {},
   "outputs": [],
   "source": [
    "X_train, X_test, y_train, y_test =\\\n",
    "    train_test_split_time(stat_disc, X=['lda_'+str(i) for i in range(7)]+['vec_'+str(i) for i in range(20)], \n",
    "                     y='ffr', test_size=0.3)"
   ]
  },
  {
   "cell_type": "code",
   "execution_count": null,
   "metadata": {},
   "outputs": [],
   "source": [
    "from sklearn.svm import SVC\n",
    "\n",
    "svm=SVC(class_weight='balanced',kernel='rbf',C=1)\n",
    "svm.fit(X_train,y_train)\n",
    "print('Training accuracy:', svm.score(X_train, y_train))\n",
    "print('Test accuracy:', svm.score(X_test, y_test))"
   ]
  },
  {
   "cell_type": "code",
   "execution_count": null,
   "metadata": {},
   "outputs": [],
   "source": [
    "X_combined = np.vstack((X_train, X_test))\n",
    "y_combined = np.hstack((y_train, y_test))\n",
    "svm_range=(np.ones((9,))*10)**np.arange(-4,5)\n",
    "param_grid={'C':svm_range}\n",
    "gs=GridSearchCV(estimator=svm,\n",
    "               param_grid=param_grid,\n",
    "               scoring='accuracy',\n",
    "               cv=4)\n",
    "gs.fit(X_combined,y_combined)\n",
    "print(gs.best_params_)"
   ]
  },
  {
   "cell_type": "code",
   "execution_count": null,
   "metadata": {},
   "outputs": [],
   "source": [
    "svm_best=gs.best_estimator_\n",
    "scores=cross_val_score(estimator=svm_best,\n",
    "                      X=X_combined,\n",
    "                      y=y_combined,\n",
    "                      cv=5)\n",
    "print('CV accuracy scores of SVM: %s'%scores)"
   ]
  },
  {
   "cell_type": "code",
   "execution_count": null,
   "metadata": {},
   "outputs": [],
   "source": [
    "y_combined=np.hstack((y_train, y_test))\n",
    "(y_combined==0).sum()/len(y_combined)"
   ]
  },
  {
   "cell_type": "markdown",
   "metadata": {},
   "source": [
    "The result of SVM is even better than Random Forest."
   ]
  },
  {
   "cell_type": "code",
   "execution_count": null,
   "metadata": {},
   "outputs": [],
   "source": [
    "def svm_grid(X_train, X_test, y_train, y_test):\n",
    "    X_combined = np.vstack((X_train, X_test))\n",
    "    y_combined = np.hstack((y_train, y_test))\n",
    "    svm_range=(np.ones((9,))*10)**np.arange(-4,5)\n",
    "    param_grid={'C':svm_range}\n",
    "    gs=GridSearchCV(estimator=svm,\n",
    "                   param_grid=param_grid,\n",
    "                   scoring='accuracy',\n",
    "                   cv=4)\n",
    "    gs.fit(X_combined,y_combined)\n",
    "    return gs\n",
    "\n",
    "def svm_test(X_train, X_test, y_train, y_test, estimator):\n",
    "    X_combined = np.vstack((X_train, X_test))\n",
    "    y_combined = np.hstack((y_train, y_test))\n",
    "    return cross_val_score(estimator=estimator,\n",
    "                      X=X_combined,\n",
    "                      y=y_combined,\n",
    "                      cv=5)"
   ]
  },
  {
   "cell_type": "markdown",
   "metadata": {},
   "source": [
    "#### 10-year treasury bond"
   ]
  },
  {
   "cell_type": "code",
   "execution_count": null,
   "metadata": {},
   "outputs": [],
   "source": [
    "X_train, X_test, y_train, y_test =\\\n",
    "    train_test_split_time(stat_disc, X=['lda_'+str(i) for i in range(7)]+['vec_'+str(i) for i in range(20)], \n",
    "                     y='us10year', test_size=0.3)"
   ]
  },
  {
   "cell_type": "code",
   "execution_count": null,
   "metadata": {},
   "outputs": [],
   "source": [
    "gs=svm_grid(X_train, X_test, y_train, y_test)\n",
    "print(gs.best_params_)"
   ]
  },
  {
   "cell_type": "code",
   "execution_count": null,
   "metadata": {},
   "outputs": [],
   "source": [
    "svm_best=gs.best_estimator_\n",
    "scores=svm_test(X_train, X_test, y_train, y_test, svm_best)\n",
    "print('CV accuracy scores of SVM: %s'%scores)"
   ]
  },
  {
   "cell_type": "code",
   "execution_count": null,
   "metadata": {},
   "outputs": [],
   "source": [
    "y_combined=np.hstack((y_train, y_test))\n",
    "(y_combined==0).sum()/len(y_combined)"
   ]
  },
  {
   "cell_type": "markdown",
   "metadata": {},
   "source": [
    "#### 3-year treasury bond"
   ]
  },
  {
   "cell_type": "code",
   "execution_count": null,
   "metadata": {},
   "outputs": [],
   "source": [
    "X_train, X_test, y_train, y_test =\\\n",
    "    train_test_split_time(stat_disc, X=['lda_'+str(i) for i in range(7)]+['vec_'+str(i) for i in range(20)], \n",
    "                     y='us3year', test_size=0.3)"
   ]
  },
  {
   "cell_type": "code",
   "execution_count": null,
   "metadata": {},
   "outputs": [],
   "source": [
    "gs=svm_grid(X_train, X_test, y_train, y_test)\n",
    "print(gs.best_params_)"
   ]
  },
  {
   "cell_type": "code",
   "execution_count": null,
   "metadata": {},
   "outputs": [],
   "source": [
    "svm_best=gs.best_estimator_\n",
    "scores=svm_test(X_train, X_test, y_train, y_test,svm_best)\n",
    "print('CV accuracy scores of SVM: %s'%scores)"
   ]
  },
  {
   "cell_type": "code",
   "execution_count": null,
   "metadata": {},
   "outputs": [],
   "source": [
    "y_combined=np.hstack((y_train, y_test))\n",
    "(y_combined==0).sum()/len(y_combined)"
   ]
  },
  {
   "cell_type": "markdown",
   "metadata": {},
   "source": [
    "### 6.5 SVM for principal components of X and discrete Y"
   ]
  },
  {
   "cell_type": "markdown",
   "metadata": {},
   "source": [
    "#### Federal funds rate"
   ]
  },
  {
   "cell_type": "code",
   "execution_count": null,
   "metadata": {},
   "outputs": [],
   "source": [
    "X_train, X_test, y_train, y_test =\\\n",
    "    train_test_split_time(stat_disc_pca, X=list(range(3)), \n",
    "                     y='ffr', test_size=0.3)"
   ]
  },
  {
   "cell_type": "code",
   "execution_count": null,
   "metadata": {},
   "outputs": [],
   "source": [
    "gs=svm_grid(X_train, X_test, y_train, y_test)\n",
    "print(gs.best_params_)"
   ]
  },
  {
   "cell_type": "code",
   "execution_count": null,
   "metadata": {},
   "outputs": [],
   "source": [
    "svm_best=gs.best_estimator_\n",
    "scores=svm_test(X_train, X_test, y_train, y_test,svm_best)\n",
    "print('CV accuracy scores of SVM: %s'%scores)"
   ]
  },
  {
   "cell_type": "code",
   "execution_count": null,
   "metadata": {},
   "outputs": [],
   "source": [
    "y_combined=np.hstack((y_train, y_test))\n",
    "(y_combined==0).sum()/len(y_combined)"
   ]
  },
  {
   "cell_type": "markdown",
   "metadata": {},
   "source": [
    "#### 10-year treasury bond"
   ]
  },
  {
   "cell_type": "code",
   "execution_count": null,
   "metadata": {},
   "outputs": [],
   "source": [
    "X_train, X_test, y_train, y_test =\\\n",
    "    train_test_split_time(stat_disc_pca, X=list(range(3)), \n",
    "                     y='us10year', test_size=0.3)"
   ]
  },
  {
   "cell_type": "code",
   "execution_count": null,
   "metadata": {},
   "outputs": [],
   "source": [
    "gs=svm_grid(X_train, X_test, y_train, y_test)\n",
    "print(gs.best_params_)"
   ]
  },
  {
   "cell_type": "code",
   "execution_count": null,
   "metadata": {},
   "outputs": [],
   "source": [
    "svm_best=gs.best_estimator_\n",
    "scores=svm_test(X_train, X_test, y_train, y_test,svm_best)\n",
    "print('CV accuracy scores of SVM: %s'%scores)"
   ]
  },
  {
   "cell_type": "code",
   "execution_count": null,
   "metadata": {},
   "outputs": [],
   "source": [
    "y_combined=np.hstack((y_train, y_test))\n",
    "(y_combined==0).sum()/len(y_combined)"
   ]
  },
  {
   "cell_type": "markdown",
   "metadata": {},
   "source": [
    "####  3-year treasury bond"
   ]
  },
  {
   "cell_type": "code",
   "execution_count": null,
   "metadata": {},
   "outputs": [],
   "source": [
    "X_train, X_test, y_train, y_test =\\\n",
    "    train_test_split_time(stat_disc_pca, X=list(range(3)), \n",
    "                     y='us3year', test_size=0.3)"
   ]
  },
  {
   "cell_type": "code",
   "execution_count": null,
   "metadata": {},
   "outputs": [],
   "source": [
    "gs=svm_grid(X_train, X_test, y_train, y_test)\n",
    "print(gs.best_params_)"
   ]
  },
  {
   "cell_type": "code",
   "execution_count": null,
   "metadata": {},
   "outputs": [],
   "source": [
    "svm_best=gs.best_estimator_\n",
    "scores=svm_test(X_train, X_test, y_train, y_test,svm_best)\n",
    "print('CV accuracy scores of SVM: %s'%scores)"
   ]
  },
  {
   "cell_type": "code",
   "execution_count": null,
   "metadata": {},
   "outputs": [],
   "source": [
    "y_combined=np.hstack((y_train, y_test))\n",
    "(y_combined==0).sum()/len(y_combined)"
   ]
  },
  {
   "cell_type": "markdown",
   "metadata": {},
   "source": [
    "### 6.6 Dense neural network for original X and discrete Y"
   ]
  },
  {
   "cell_type": "code",
   "execution_count": null,
   "metadata": {},
   "outputs": [],
   "source": [
    "import keras\n",
    "from keras import Sequential\n",
    "from keras.layers import merge, Conv2D, MaxPooling2D, Input, Dense, Flatten, LSTM, Dropout\n",
    "import pandas as pd\n",
    "import numpy as np\n",
    "from tqdm import tqdm\n",
    "\n",
    "seed=123456"
   ]
  },
  {
   "cell_type": "code",
   "execution_count": null,
   "metadata": {},
   "outputs": [],
   "source": [
    "stat_disc = pd.read_excel(\"stat_disc.xlsx\", header=0, index_col=0)\n",
    "stat_cont = pd.read_excel(\"stat_cont.xlsx\", header=0, index_col=0)"
   ]
  },
  {
   "cell_type": "code",
   "execution_count": null,
   "metadata": {},
   "outputs": [],
   "source": [
    "class DenseModelClassification:\n",
    "    def build_model():\n",
    "        dense_model = Sequential()\n",
    "        dense_model.add(Dense(32, activation='relu', input_shape=(len(X_train.iloc[0, :]), ), kernel_initializer=keras.initializers.ones()))\n",
    "        dense_model.add(Dense(16, activation='relu'))\n",
    "        dense_model.add(Dense(3, activation='softmax'))\n",
    "        dense_model.compile(loss='categorical_crossentropy', optimizer='adam', metrics=['accuracy'])\n",
    "        return dense_model"
   ]
  },
  {
   "cell_type": "markdown",
   "metadata": {},
   "source": [
    "#### Federal funds rate"
   ]
  },
  {
   "cell_type": "code",
   "execution_count": null,
   "metadata": {},
   "outputs": [],
   "source": [
    "X_train, X_test, y_train, y_test =\\\n",
    "    train_test_split_time(stat_disc, X=['lda_'+str(i) for i in range(7)]+['vec_'+str(i) for i in range(20)], \n",
    "                     y='ffr', test_size=0.3)"
   ]
  },
  {
   "cell_type": "code",
   "execution_count": null,
   "metadata": {},
   "outputs": [],
   "source": [
    "y_train_reshape = pd.DataFrame(np.zeros([len(y_train), 3]), index=y_train.index)\n",
    "y_test_reshape = pd.DataFrame(np.zeros([len(y_test), 3]), index=y_test.index)\n",
    "for i in range(len(y_train)):\n",
    "    y_train_reshape.iloc[i, y_train[i]+1] = 1\n",
    "y_train = y_train_reshape\n",
    "\n",
    "for i in range(len(y_test)):\n",
    "    y_test_reshape.iloc[i, y_test[i] + 1] = 1\n",
    "y_test = y_test_reshape"
   ]
  },
  {
   "cell_type": "code",
   "execution_count": null,
   "metadata": {},
   "outputs": [],
   "source": [
    "test_accuracy = []\n",
    "n_iter = 10"
   ]
  },
  {
   "cell_type": "code",
   "execution_count": null,
   "metadata": {},
   "outputs": [],
   "source": [
    "for i in range(n_iter):\n",
    "    dense_model = DenseModelClassification.build_model()\n",
    "    dense_model.fit(X_train, y_train, epochs=100, verbose=0)\n",
    "    prediction = dense_model.predict(X_test)\n",
    "    prediction = (prediction == prediction.max(axis=1, keepdims=1)).astype(float)\n",
    "\n",
    "    dev = prediction - y_test\n",
    "    error = 0\n",
    "    for i in range(len(y_test)):\n",
    "        error += (abs(dev.iloc[i, 0]) + abs(dev.iloc[i, 1]) + abs(dev.iloc[i, 2]))/2\n",
    "    test_accuracy.append(1- error / len(dev))\n",
    "print('mean accuracy: ' + str(np.mean(test_accuracy)))\n",
    "print('std of accuracy: ' + str(np.std(test_accuracy)))\n",
    "print('coefficient of variation: ' + str(np.std(test_accuracy) / np.mean(test_accuracy)))"
   ]
  },
  {
   "cell_type": "markdown",
   "metadata": {},
   "source": [
    "#### 10-year treasury bond"
   ]
  },
  {
   "cell_type": "code",
   "execution_count": null,
   "metadata": {},
   "outputs": [],
   "source": [
    "X_train, X_test, y_train, y_test =\\\n",
    "    train_test_split_time(stat_disc, X=['lda_'+str(i) for i in range(7)]+['vec_'+str(i) for i in range(20)], y='us10year', test_size=0.3)"
   ]
  },
  {
   "cell_type": "code",
   "execution_count": null,
   "metadata": {},
   "outputs": [],
   "source": [
    "y_train_reshape = pd.DataFrame(np.zeros([len(y_train), 3]), index=y_train.index)\n",
    "y_test_reshape = pd.DataFrame(np.zeros([len(y_test), 3]), index=y_test.index)\n",
    "for i in range(len(y_train)):\n",
    "    y_train_reshape.iloc[i, y_train[i]+1] = 1\n",
    "y_train = y_train_reshape\n",
    "\n",
    "for i in range(len(y_test)):\n",
    "    y_test_reshape.iloc[i, y_test[i] + 1] = 1\n",
    "y_test = y_test_reshape"
   ]
  },
  {
   "cell_type": "code",
   "execution_count": null,
   "metadata": {},
   "outputs": [],
   "source": [
    "test_accuracy = []\n",
    "n_iter = 10\n",
    "for i in range(n_iter):\n",
    "    dense_model = DenseModelClassification.build_model()\n",
    "    dense_model.fit(X_train, y_train, epochs=100, verbose=0)\n",
    "    prediction = dense_model.predict(X_test)\n",
    "    prediction = (prediction == prediction.max(axis=1, keepdims=1)).astype(float)\n",
    "\n",
    "    dev = prediction - y_test\n",
    "    error = 0\n",
    "    for i in range(len(y_test)):\n",
    "        error += (abs(dev.iloc[i, 0]) + abs(dev.iloc[i, 1]) + abs(dev.iloc[i, 2]))/2\n",
    "    test_accuracy.append(1- error / len(dev))\n",
    "print('mean accuracy: ' + str(np.mean(test_accuracy)))\n",
    "print('std of accuracy: ' + str(np.std(test_accuracy)))\n",
    "print('coefficient of variation: ' + str(np.std(test_accuracy) / np.mean(test_accuracy)))"
   ]
  },
  {
   "cell_type": "markdown",
   "metadata": {},
   "source": [
    "#### 3-year treasury bond"
   ]
  },
  {
   "cell_type": "code",
   "execution_count": null,
   "metadata": {},
   "outputs": [],
   "source": [
    "X_train, X_test, y_train, y_test =\\\n",
    "    train_test_split_time(stat_disc, X=['lda_'+str(i) for i in range(7)]+['vec_'+str(i) for i in range(20)], y='us3year', test_size=0.3)"
   ]
  },
  {
   "cell_type": "code",
   "execution_count": null,
   "metadata": {},
   "outputs": [],
   "source": [
    "y_train_reshape = pd.DataFrame(np.zeros([len(y_train), 3]), index=y_train.index)\n",
    "y_test_reshape = pd.DataFrame(np.zeros([len(y_test), 3]), index=y_test.index)\n",
    "for i in range(len(y_train)):\n",
    "    y_train_reshape.iloc[i, y_train[i]+1] = 1\n",
    "y_train = y_train_reshape\n",
    "\n",
    "for i in range(len(y_test)):\n",
    "    y_test_reshape.iloc[i, y_test[i] + 1] = 1\n",
    "y_test = y_test_reshape"
   ]
  },
  {
   "cell_type": "code",
   "execution_count": null,
   "metadata": {},
   "outputs": [],
   "source": [
    "test_accuracy = []\n",
    "n_iter = 10\n",
    "for i in range(n_iter):\n",
    "    dense_model = DenseModelClassification.build_model()\n",
    "    dense_model.fit(X_train, y_train, epochs=100, verbose=0)\n",
    "    prediction = dense_model.predict(X_test)\n",
    "    prediction = (prediction == prediction.max(axis=1, keepdims=1)).astype(float)\n",
    "\n",
    "    dev = prediction - y_test\n",
    "    error = 0\n",
    "    for i in range(len(y_test)):\n",
    "        error += (abs(dev.iloc[i, 0]) + abs(dev.iloc[i, 1]) + abs(dev.iloc[i, 2]))/2\n",
    "    test_accuracy.append(1- error / len(dev))\n",
    "print('mean accuracy: ' + str(np.mean(test_accuracy)))\n",
    "print('std of accuracy: ' + str(np.std(test_accuracy)))\n",
    "print('coefficient of variation: ' + str(np.std(test_accuracy) / np.mean(test_accuracy)))"
   ]
  },
  {
   "cell_type": "markdown",
   "metadata": {},
   "source": [
    "### 6.7 Dense neural network for original X and continuous Y"
   ]
  },
  {
   "cell_type": "code",
   "execution_count": null,
   "metadata": {},
   "outputs": [],
   "source": [
    "class DenseModelRegression:\n",
    "    def build_model():\n",
    "        dense_model = Sequential()\n",
    "        dense_model.add(Dense(16, activation='relu', input_shape=(len(X_train.iloc[0, :]), ), kernel_initializer='random_normal'))\n",
    "        dense_model.add(Dense(8, activation='relu'))\n",
    "        dense_model.add(Dense(4, activation='relu'))\n",
    "        dense_model.add(Dense(1))\n",
    "        dense_model.compile(loss='mean_squared_error', optimizer='adam', metrics=['accuracy'])\n",
    "        return dense_model"
   ]
  },
  {
   "cell_type": "code",
   "execution_count": null,
   "metadata": {},
   "outputs": [],
   "source": [
    "import matplotlib.pyplot as plt\n",
    "def nn_plot(y_pred, y_test, title):\n",
    "    plt.plot(y_test.index.values, y_test, color=\"navy\", label=\"y_test\")\n",
    "    plt.plot(y_test.index.values, y_pred, color=\"red\", label=\"y_pred\")\n",
    "    plt.title(title)\n",
    "    plt.xlabel('date')\n",
    "    plt.ylabel('y')\n",
    "    plt.legend(loc=\"upper right\")\n",
    "    plt.show()"
   ]
  },
  {
   "cell_type": "markdown",
   "metadata": {},
   "source": [
    "#### Federal funds rate"
   ]
  },
  {
   "cell_type": "code",
   "execution_count": null,
   "metadata": {},
   "outputs": [],
   "source": [
    "X_train, X_test, y_train, y_test =\\\n",
    "    train_test_split_time(stat_cont, X=['lda_'+str(i) for i in range(7)]+['vec_'+str(i) for i in range(20)], y='ffr', test_size=0.3)"
   ]
  },
  {
   "cell_type": "code",
   "execution_count": null,
   "metadata": {},
   "outputs": [],
   "source": [
    "test_error = []\n",
    "n_iter = 10\n",
    "for i in range(n_iter):\n",
    "    dense_model = DenseModelRegression.build_model()\n",
    "    dense_model.fit(X_train, y_train, epochs=100, verbose=0)\n",
    "    prediction = dense_model.predict(X_test)[:, 0]\n",
    "    error = 0\n",
    "    for i in range(len(y_test)):\n",
    "        error += (prediction - y_test)**2\n",
    "    test_error.append(error / len(y_test))\n",
    "print('MSE: ' + str(np.mean(test_error)))\n",
    "print('std of MSE: ' + str(np.std(test_error)))"
   ]
  },
  {
   "cell_type": "code",
   "execution_count": null,
   "metadata": {},
   "outputs": [],
   "source": [
    "nn_plot(prediction, y_test, title='federal fund rate')"
   ]
  },
  {
   "cell_type": "markdown",
   "metadata": {},
   "source": [
    "#### 10-year treasury bond"
   ]
  },
  {
   "cell_type": "code",
   "execution_count": null,
   "metadata": {},
   "outputs": [],
   "source": [
    "X_train, X_test, y_train, y_test =\\\n",
    "    train_test_split_time(stat_cont, X=['lda_'+str(i) for i in range(7)]+['vec_'+str(i) for i in range(20)], y='us10year', test_size=0.3)"
   ]
  },
  {
   "cell_type": "code",
   "execution_count": null,
   "metadata": {},
   "outputs": [],
   "source": [
    "test_error = []\n",
    "n_iter = 10\n",
    "for i in range(n_iter):\n",
    "    dense_model = DenseModelRegression.build_model()\n",
    "    dense_model.fit(X_train, y_train, epochs=100, verbose=0)\n",
    "    prediction = dense_model.predict(X_test)[:, 0]\n",
    "    error = 0\n",
    "    for i in range(len(y_test)):\n",
    "        error += (prediction - y_test)**2\n",
    "    test_error.append(error / len(y_test))\n",
    "print('MSE: ' + str(np.mean(test_error)))\n",
    "print('std of MSE: ' + str(np.std(test_error)))"
   ]
  },
  {
   "cell_type": "code",
   "execution_count": null,
   "metadata": {},
   "outputs": [],
   "source": [
    "nn_plot(prediction, y_test, title='10-year treasury bond')"
   ]
  },
  {
   "cell_type": "markdown",
   "metadata": {},
   "source": [
    "#### 3-year treasury bond"
   ]
  },
  {
   "cell_type": "code",
   "execution_count": null,
   "metadata": {},
   "outputs": [],
   "source": [
    "X_train, X_test, y_train, y_test =\\\n",
    "    train_test_split_time(stat_cont, X=['lda_'+str(i) for i in range(7)]+['vec_'+str(i) for i in range(20)], y='us3year', test_size=0.3)"
   ]
  },
  {
   "cell_type": "code",
   "execution_count": null,
   "metadata": {},
   "outputs": [],
   "source": [
    "test_error = []\n",
    "n_iter = 10\n",
    "for i in range(n_iter):\n",
    "    dense_model = DenseModelRegression.build_model()\n",
    "    dense_model.fit(X_train, y_train, epochs=100, verbose=0)\n",
    "    prediction = dense_model.predict(X_test)[:, 0]\n",
    "    error = 0\n",
    "    for i in range(len(y_test)):\n",
    "        error += (prediction - y_test)**2\n",
    "    test_error.append(error / len(y_test))\n",
    "print('MSE: ' + str(np.mean(test_error)))\n",
    "print('std of MSE: ' + str(np.std(test_error)))"
   ]
  },
  {
   "cell_type": "code",
   "execution_count": null,
   "metadata": {},
   "outputs": [],
   "source": [
    "nn_plot(prediction, y_test, title='3-year treasury bond')"
   ]
  },
  {
   "cell_type": "markdown",
   "metadata": {},
   "source": [
    "## 7. Explore Minutes\n",
    "### 7.1 Similarities\n",
    "##### Please see [Cosine Similarity.ipynb]() under the same repository.\n",
    "### 7.2 Plot\n",
    "Again, we use red line to mark the time when minutes were publicated. We only plot data after 2016.\n",
    "\n",
    "We can find that the influence of minutes is quite difficult to identify."
   ]
  },
  {
   "cell_type": "code",
   "execution_count": null,
   "metadata": {},
   "outputs": [],
   "source": [
    "mi=pd.read_excel('vec_min.xlsx')\n",
    "mi['st_time']=pd.to_datetime(mi.file.str[11:])\n",
    "mi['pub_time']=pd.to_datetime(mi.pub_time.astype(str))"
   ]
  },
  {
   "cell_type": "markdown",
   "metadata": {},
   "source": [
    "#### Federal funds rate"
   ]
  },
  {
   "cell_type": "code",
   "execution_count": null,
   "metadata": {
    "scrolled": true
   },
   "outputs": [],
   "source": [
    "fig,ax=plt.subplots(figsize=(10,6))\n",
    "sns.lineplot(data=ffr.reset_index()[lambda x:x.Date>'2016-01-01'],x='Date',y='PX_LAST',ax=ax)\n",
    "for i in mi.pub_time:\n",
    "    ax.axvline(i,color='red',linewidth=0.6,linestyle=':')"
   ]
  },
  {
   "cell_type": "markdown",
   "metadata": {},
   "source": [
    "#### 10-year US treasury bonds"
   ]
  },
  {
   "cell_type": "code",
   "execution_count": null,
   "metadata": {
    "scrolled": true
   },
   "outputs": [],
   "source": [
    "fig,ax=plt.subplots(figsize=(10,6))\n",
    "sns.lineplot(data=us10year.reset_index()[lambda x:x.Date>'2016-01-01'],x='Date',y='PX_LAST',ax=ax)\n",
    "for i in mi.pub_time:\n",
    "    ax.axvline(i,color='red',linewidth=0.6,linestyle=':')"
   ]
  },
  {
   "cell_type": "markdown",
   "metadata": {},
   "source": [
    "#### 3-year US treasury bonds"
   ]
  },
  {
   "cell_type": "code",
   "execution_count": null,
   "metadata": {},
   "outputs": [],
   "source": [
    "fig,ax=plt.subplots(figsize=(10,6))\n",
    "sns.lineplot(data=us3year.reset_index()[lambda x:x.Date>'2016-01-01'],x='Date',y='PX_LAST',ax=ax)\n",
    "for i in mi.pub_time:\n",
    "    ax.axvline(i,color='red',linewidth=0.6,linestyle=':')"
   ]
  },
  {
   "cell_type": "markdown",
   "metadata": {},
   "source": [
    "### 7.3 Statistical analysis of the influence of the publication of minutes\n",
    "From 7.2, we can make a hypothesis that the influence of publication is not sigificant. In this subsection, we aim to test whether our hypothesis is right."
   ]
  },
  {
   "cell_type": "code",
   "execution_count": null,
   "metadata": {},
   "outputs": [],
   "source": [
    "mi"
   ]
  },
  {
   "cell_type": "code",
   "execution_count": null,
   "metadata": {},
   "outputs": [],
   "source": [
    "dt=y_cont.sort_index().loc['2016-01-01':].reset_index().merge(\n",
    "    mi[['pub_time']],left_on='Date',right_on='pub_time',how='left')\n",
    "dt=dt.merge(mi[['st_time']],left_on='Date',right_on='st_time',how='left')\n",
    "dt['minutes_pub']=np.where(pd.isna(dt.pub_time),0,1)\n",
    "dt['statements_pub']=np.where(pd.isna(dt.st_time),0,1)\n",
    "dt"
   ]
  },
  {
   "cell_type": "code",
   "execution_count": null,
   "metadata": {
    "scrolled": false
   },
   "outputs": [],
   "source": [
    "from statsmodels.formula.api import ols\n",
    "lm=ols('ffr~minutes_pub+statements_pub',data=dt).fit()\n",
    "lm.summary()"
   ]
  },
  {
   "cell_type": "code",
   "execution_count": null,
   "metadata": {},
   "outputs": [],
   "source": [
    "lm=ols('us10year~minutes_pub+statements_pub',data=dt).fit()\n",
    "lm.summary()"
   ]
  },
  {
   "cell_type": "markdown",
   "metadata": {},
   "source": [
    "We can find the publication of minutes do not have stastically significant influence on all the financial market variables."
   ]
  },
  {
   "cell_type": "markdown",
   "metadata": {},
   "source": [
    "# References"
   ]
  },
  {
   "cell_type": "markdown",
   "metadata": {},
   "source": [
    "<font color=black size=3 face=times><p>[1] Blei, D. M., Ng, A. Y., & Jordan, M. I. (2003). Latent Dirichlet Allocation. *the Journal of Machine Learning Research*, *3*, 993-1022.</p>\n",
    "    <p>[2] Le, Q., & Mikolov, T. (2014). Distributed Representations of Sentences and Documents. *Proceedings of the 31st International Conference on Machine Learning, 14*, 1188-1196.<br>"
   ]
  }
 ],
 "metadata": {
  "kernelspec": {
   "display_name": "Python 3",
   "language": "python",
   "name": "python3"
  },
  "language_info": {
   "codemirror_mode": {
    "name": "ipython",
    "version": 3
   },
   "file_extension": ".py",
   "mimetype": "text/x-python",
   "name": "python",
   "nbconvert_exporter": "python",
   "pygments_lexer": "ipython3",
   "version": "3.7.4"
  }
 },
 "nbformat": 4,
 "nbformat_minor": 5
}
