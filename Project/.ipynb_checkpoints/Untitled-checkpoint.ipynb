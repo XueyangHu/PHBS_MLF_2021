{
 "cells": [
  {
   "cell_type": "markdown",
   "metadata": {},
   "source": [
    "# Appendix: Download and process PDF files from FOMC Website"
   ]
  },
  {
   "cell_type": "markdown",
   "metadata": {},
   "source": [
    "## 1 Download PDF files"
   ]
  },
  {
   "cell_type": "code",
   "execution_count": null,
   "metadata": {},
   "outputs": [],
   "source": [
    "import urllib.request\n",
    "from tqdm import tqdm\n",
    "import re\n",
    "import os"
   ]
  },
  {
   "cell_type": "code",
   "execution_count": null,
   "metadata": {},
   "outputs": [],
   "source": [
    "# open the url and read all the links on it\n",
    "def get_html(url):\n",
    "    page = urllib.request.urlopen(url)\n",
    "    html = page.read()\n",
    "    page.close()\n",
    "    return html\n",
    "\n",
    "# compile the regular expression and match strings\n",
    "def get_url(html, reg):\n",
    "    url_re = re.compile(reg)\n",
    "    url_lst = url_re.findall(html.decode('UTF-8'))\n",
    "    return url_lst\n",
    "\n",
    "# download the file\n",
    "def get_file(url, file, dir):\n",
    "    try:\n",
    "        u = urllib.request.urlopen(url)\n",
    "        # u = urllib.request.urlopen(url, timeout=30)\n",
    "        f = open(dir + file, 'wb')\n",
    "        block_size = 8192\n",
    "        while True:\n",
    "            buffer = u.read(block_size)\n",
    "            if not buffer:\n",
    "                break\n",
    "\n",
    "            f.write(buffer)\n",
    "        f.close()\n",
    "        u.close()\n",
    "    except urllib.error.HTTPError:\n",
    "        print(urllib.error.HTTPError)"
   ]
  },
  {
   "cell_type": "code",
   "execution_count": null,
   "metadata": {},
   "outputs": [],
   "source": [
    "dir_stat = '.\\pdf_stat\\\\'\n",
    "if os.path.exists(dir_stat) == False:\n",
    "    os.mkdir(dir_stat)\n",
    "else:\n",
    "    pass\n",
    "\n",
    "dir_min = '.\\pdf_min\\\\'\n",
    "if os.path.exists(dir_min) == False:\n",
    "    os.mkdir(dir_min)\n",
    "else:\n",
    "    pass"
   ]
  },
  {
   "cell_type": "code",
   "execution_count": null,
   "metadata": {},
   "outputs": [],
   "source": [
    "# pdf files are available during 2016-2021\n",
    "root_url = 'https://www.federalreserve.gov/monetarypolicy/files/'\n",
    "index_url = 'https://www.federalreserve.gov/monetarypolicy/fomccalendars.htm'  \n",
    "html = get_html(index_url)"
   ]
  },
  {
   "cell_type": "code",
   "execution_count": null,
   "metadata": {},
   "outputs": [],
   "source": [
    "url_lst_stat = get_url(html, r'(monetary\\d{8}a1)')\n",
    "print('Downloading statements from 2016 to 2021...')\n",
    "for url in tqdm(url_lst_stat):\n",
    "    if url + '.pdf' not in os.listdir(dir_stat):\n",
    "        url = root_url + url + '.pdf'\n",
    "        get_file(url, url.split('/')[-1], dir_stat)\n",
    "    else:\n",
    "        pass\n",
    "print('Done.')"
   ]
  },
  {
   "cell_type": "code",
   "execution_count": null,
   "metadata": {},
   "outputs": [],
   "source": [
    "url_lst_min = get_url(html, r'(fomcminutes\\d{8})')\n",
    "print('Downloading minutes from 2016 to 2021...')\n",
    "for url in tqdm(url_lst_min):\n",
    "    if url + '.pdf' not in os.listdir(dir_min):\n",
    "        url = root_url + url + '.pdf'\n",
    "        get_file(url, url.split('/')[-1], dir_min)\n",
    "    else:\n",
    "        pass\n",
    "print('Done.')"
   ]
  },
  {
   "cell_type": "markdown",
   "metadata": {},
   "source": [
    "## 2 Convert PDF into txt files"
   ]
  },
  {
   "cell_type": "code",
   "execution_count": null,
   "metadata": {},
   "outputs": [],
   "source": [
    "from pdfminer.pdfinterp import PDFResourceManager, process_pdf\n",
    "from pdfminer.converter import TextConverter\n",
    "from pdfminer.layout import LAParams\n",
    "from io import StringIO\n",
    "from io import open\n",
    "import os\n",
    "import sys"
   ]
  },
  {
   "cell_type": "code",
   "execution_count": null,
   "metadata": {},
   "outputs": [],
   "source": [
    "def read_pdf(pdf_file):\n",
    "    rsrcmgr = PDFResourceManager()\n",
    "    retstr = StringIO()\n",
    "    laparams = LAParams()\n",
    "    device = TextConverter(rsrcmgr, retstr, laparams=laparams)\n",
    "\n",
    "    process_pdf(rsrcmgr, device, pdf_file)\n",
    "    device.close()\n",
    "\n",
    "    contents = retstr.getvalue()\n",
    "    retstr.close()\n",
    "\n",
    "    return contents\n",
    "\n",
    "\n",
    "def save_txt(txt, txt_name):\n",
    "    with open(resource_path(r'txt\\\\') + txt_name, \"w\", encoding='utf-8') as f:\n",
    "        f.write(txt)"
   ]
  },
  {
   "cell_type": "markdown",
   "metadata": {},
   "source": [
    "## 3 Construct training samples for Doc2Vec model"
   ]
  },
  {
   "cell_type": "markdown",
   "metadata": {},
   "source": [
    "### 3.1 Define functions"
   ]
  },
  {
   "cell_type": "code",
   "execution_count": null,
   "metadata": {},
   "outputs": [],
   "source": [
    "from gensim.models.doc2vec import Doc2Vec, TaggedDocument\n",
    "import numpy as np\n",
    "import pandas as pd\n",
    "import time\n",
    "import re"
   ]
  },
  {
   "cell_type": "code",
   "execution_count": null,
   "metadata": {},
   "outputs": [],
   "source": [
    "# remove '\\n' in txt files\n",
    "def txt_to_str(txt_file):\n",
    "    with open(txt_file, encoding='utf-8', errors='ignore') as f:\n",
    "        contents = f.read().replace('\\n', ' ')\n",
    "    if contents == '':\n",
    "        print('Empty str encounted in' + txt_file + '. Please check.')\n",
    "    return contents"
   ]
  },
  {
   "cell_type": "code",
   "execution_count": null,
   "metadata": {},
   "outputs": [],
   "source": [
    "# construct TaggedDocument data with sentences\n",
    "def str_to_sentences(string, tag=False):\n",
    "    train_content = []\n",
    "    count = 0\n",
    "    if string == '':\n",
    "        print('Cannot process empty string. Please check.')\n",
    "    else:\n",
    "        if tag == True:\n",
    "            for item in string.split('. '):\n",
    "                try:\n",
    "                    train_content.append(TaggedDocument(item, [str(count)]))\n",
    "                    count += 1\n",
    "                except ValueError:\n",
    "                    pass\n",
    "            return train_content\n",
    "        else:\n",
    "            for item in string.split('. '):\n",
    "                try:\n",
    "                    train_content.append(item)\n",
    "                except ValueError:\n",
    "                    pass\n",
    "            return train_content"
   ]
  },
  {
   "cell_type": "code",
   "execution_count": null,
   "metadata": {},
   "outputs": [],
   "source": [
    "# construct TaggedDocument data with documents\n",
    "def label_doc(docs, labels, tag=True):\n",
    "    train_content = []\n",
    "    if tag == True:\n",
    "        for count, item in enumerate(docs):\n",
    "            try:\n",
    "                train_content.append(TaggedDocument(item, [labels[count]]))\n",
    "            except ValueError:\n",
    "                pass\n",
    "        return train_content\n",
    "    else:\n",
    "        for item in docs:\n",
    "            try:\n",
    "                train_content.append(item)\n",
    "            except ValueError:\n",
    "                pass\n",
    "        return train_content"
   ]
  },
  {
   "cell_type": "markdown",
   "metadata": {},
   "source": [
    "### 3.2 Construct training samples"
   ]
  },
  {
   "cell_type": "code",
   "execution_count": null,
   "metadata": {},
   "outputs": [],
   "source": [
    "txt_stat_path = './txt_stat/'\n",
    "txt_min_path = './txt_min/'"
   ]
  },
  {
   "cell_type": "code",
   "execution_count": null,
   "metadata": {},
   "outputs": [],
   "source": [
    "pdf_stat_list = os.listdir(dir_stat)\n",
    "for file in tqdm(pdf_list):\n",
    "    txt = read_pdf(open(pdf_path + file, 'rb'))\n",
    "    save_txt(txt, file.split('.', 1)[0] + '.txt')"
   ]
  },
  {
   "cell_type": "code",
   "execution_count": null,
   "metadata": {},
   "outputs": [],
   "source": [
    "txt_stat_list = os.listdir(txt_stat_path)\n",
    "raw_contents = []\n",
    "for file in txt_stat_list:\n",
    "    contents = txt_to_str(txt_stat_path + file)\n",
    "    raw_contents.append(contents)\n",
    "train_data  = label_doc(raw_contents, txt_list)"
   ]
  },
  {
   "cell_type": "code",
   "execution_count": null,
   "metadata": {},
   "outputs": [],
   "source": [
    "txt_min_list = os.listdir(txt_min_path)\n",
    "raw_contents = []\n",
    "for file in txt_min_list:\n",
    "    contents = txt_to_str(txt_min_path + file)\n",
    "    raw_contents.append(contents)\n",
    "train_data  = label_doc(raw_contents, txt_list)"
   ]
  },
  {
   "cell_type": "markdown",
   "metadata": {},
   "source": [
    "## 4 Build and train a Doc2Vec model"
   ]
  },
  {
   "cell_type": "code",
   "execution_count": null,
   "metadata": {},
   "outputs": [],
   "source": [
    "# initialize a Doc2Vec model using distributed memory method\n",
    "model = Doc2Vec(dm=1, vector_size=20, window=5, min_count=2, workers=4)"
   ]
  },
  {
   "cell_type": "code",
   "execution_count": null,
   "metadata": {},
   "outputs": [],
   "source": [
    "# train and save the model\n",
    "model.build_vocab(train_data)\n",
    "model.train(train_data, total_examples=model.corpus_count, epochs=50)\n",
    "model.save('doc2vec_txt.model')"
   ]
  },
  {
   "cell_type": "markdown",
   "metadata": {},
   "source": [
    "## 5 Obtain document vectors"
   ]
  },
  {
   "cell_type": "code",
   "execution_count": null,
   "metadata": {},
   "outputs": [],
   "source": [
    "# obtain doc vectors for statements\n",
    "vec_stat = pd.DataFrame(np.zeros([len(txt_stat_list), model.vector_size]))\n",
    "vec_min = pd.DataFrame(np.zeros([len(txt_min_list), model.vector_size]))\n",
    "for i in range(len(txt_stat_list)):\n",
    "    file = txt_stat_list[i]\n",
    "    if re.findall(r'\\d{8}', file) is not None:\n",
    "        contents = txt_to_str(txt_stat_path + file)\n",
    "        test_content = str_to_sentences(contents, tag=False)\n",
    "        vec = model.infer_vector(test_content)\n",
    "        vec_stat.loc[i, 'file'] = file.split('.', 1)[0]\n",
    "        vec_stat.iloc[i, : model.vector_size] = vec\n",
    "        vec_stat.loc[i, 'date'] = re.findall(r'\\d{8}', file)\n",
    "    else:\n",
    "        pass\n",
    "vec_stat.set_index('date', inplace=True)\n",
    "vec_stat.to_excel('vec_stat_pdf.xlsx')\n",
    "vec_stat"
   ]
  },
  {
   "cell_type": "code",
   "execution_count": null,
   "metadata": {},
   "outputs": [],
   "source": [
    "# obtain doc vectors for minutes\n",
    "for i in range(len(txt_min_list)):\n",
    "    file = txt_min_list[i]\n",
    "    if re.findall(r'\\d{8}', file) is not None:\n",
    "        contents = txt_to_str(txt_min_path + file)\n",
    "        test_content = str_to_sentences(contents, tag=False)\n",
    "        vec = model.infer_vector(test_content)\n",
    "        vec_min.loc[i, 'file'] = file.split('.', 1)[0]\n",
    "        vec_min.iloc[i, : model.vector_size] = vec\n",
    "        vec_min.loc[i, 'date'] = re.findall(r'\\d{8}', file)\n",
    "    else:\n",
    "        pass\n",
    "vec_min.set_index('date', inplace=True)\n",
    "vec_min.to_excel('vec_min_pdf.xlsx')\n",
    "vec_min"
   ]
  },
  {
   "cell_type": "code",
   "execution_count": null,
   "metadata": {},
   "outputs": [],
   "source": []
  }
 ],
 "metadata": {
  "kernelspec": {
   "display_name": "Python 3",
   "language": "python",
   "name": "python3"
  },
  "language_info": {
   "codemirror_mode": {
    "name": "ipython",
    "version": 3
   },
   "file_extension": ".py",
   "mimetype": "text/x-python",
   "name": "python",
   "nbconvert_exporter": "python",
   "pygments_lexer": "ipython3",
   "version": "3.7.4"
  }
 },
 "nbformat": 4,
 "nbformat_minor": 2
}
